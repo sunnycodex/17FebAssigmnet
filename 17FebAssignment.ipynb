{
 "cells": [
  {
   "cell_type": "raw",
   "id": "348bdda7-108b-4738-b264-c1ebc7753525",
   "metadata": {},
   "source": [
    "1. MongoDB is a popular, open-source, NoSQL (non-relational) database management system. It is designed to handle large amounts of data, particularly unstructured and semi-structured data, making it suitable for a wide range of applications. MongoDB is known for its flexibility, scalability, and high performance.\n",
    "A non-relational database (NoSQL) is a database that does not use the tabular schema of rows and columns found in most traditional database systems. Instead, non-relational databases use a storage model that is optimized for the specific requirements of the type of data being stored. For example, data may be stored as simple key/value pairs, as JSON documents, or as a graph consisting of edges and vertices.\n",
    "\n",
    "MongoDB is a non-relational database that is often preferred over SQL databases for applications that require:\n",
    "\n",
    "High scalability: MongoDB can be scaled horizontally, meaning that it can be easily expanded by adding more nodes to the database cluster. This makes it ideal for applications that need to handle large amounts of data.\n",
    "Flexible data model: MongoDB does not have a fixed schema, which means that data can be stored in a variety of formats, including JSON documents, key/value pairs, and graphs. This makes it ideal for applications that need to store a variety of data types.\n",
    "High performance: MongoDB can often outperform SQL databases for certain types of queries. This is because it is designed to store and access data in a way that is optimized for the specific application."
   ]
  },
  {
   "cell_type": "raw",
   "id": "037105fa-ddbd-4f16-9377-a4c292e0531e",
   "metadata": {},
   "source": [
    "2.\n",
    "MongoDB is a document-oriented database that offers a number of features that make it a good choice for a variety of applications. These features include:\n",
    "\n",
    "-Flexible data model: MongoDB does not have a fixed schema, which means that data can be stored in a variety of formats, including JSON documents, key/value pairs, and graphs. This makes it ideal for applications that need to store a variety of data types.\n",
    "-High scalability: MongoDB can be scaled horizontally, meaning that it can be easily expanded by adding more nodes to the database cluster. This makes it ideal for applications that need to handle large amounts of data.\n",
    "-High performance: MongoDB can often outperform SQL databases for certain types of queries. This is because it is designed to store and access data in a way that is optimized for the specific application.\n",
    "-Automatic replication: MongoDB automatically replicates data across multiple nodes, which provides high availability and disaster recovery.\n",
    "-Built-in security features: MongoDB includes a number of built-in security features, such as authentication, authorization, and encryption.\n",
    "Wide range of programming languages: MongoDB can be accessed from a wide range of programming languages, including Java, Python, JavaScript, and C++.\n"
   ]
  },
  {
   "cell_type": "code",
   "execution_count": 1,
   "id": "cd037e91-b866-4a20-998b-e3fb80c369b9",
   "metadata": {},
   "outputs": [
    {
     "ename": "SyntaxError",
     "evalue": "invalid decimal literal (4234852025.py, line 20)",
     "output_type": "error",
     "traceback": [
      "\u001b[0;36m  Cell \u001b[0;32mIn[1], line 20\u001b[0;36m\u001b[0m\n\u001b[0;31m    4.import pymongo\u001b[0m\n\u001b[0m     ^\u001b[0m\n\u001b[0;31mSyntaxError\u001b[0m\u001b[0;31m:\u001b[0m invalid decimal literal\n"
     ]
    }
   ],
   "source": [
    "#3.\n",
    "import pymongo\n",
    "\n",
    "# Connect to MongoDB\n",
    "client = pymongo.MongoClient(\"mongodb://localhost:27017\")\n",
    "\n",
    "# Create a database\n",
    "db = client[\"my_database\"]\n",
    "\n",
    "# Create a collection\n",
    "collection = db[\"my_collection\"]\n",
    "\n",
    "# Insert a document into the collection\n",
    "document = {\"name\": \"John Doe\", \"age\": 30}\n",
    "collection.insert_one(document)\n",
    "\n",
    "# Print the documents in the collection\n",
    "for document in collection.find():\n",
    "    print(document)"
   ]
  },
  {
   "cell_type": "code",
   "execution_count": 2,
   "id": "ad06f3ca-879e-4daf-be8e-ca87796d585d",
   "metadata": {},
   "outputs": [
    {
     "ename": "ModuleNotFoundError",
     "evalue": "No module named 'pymongo'",
     "output_type": "error",
     "traceback": [
      "\u001b[0;31m---------------------------------------------------------------------------\u001b[0m",
      "\u001b[0;31mModuleNotFoundError\u001b[0m                       Traceback (most recent call last)",
      "Cell \u001b[0;32mIn[2], line 2\u001b[0m\n\u001b[1;32m      1\u001b[0m \u001b[38;5;66;03m#4.\u001b[39;00m\n\u001b[0;32m----> 2\u001b[0m \u001b[38;5;28;01mimport\u001b[39;00m \u001b[38;5;21;01mpymongo\u001b[39;00m\n\u001b[1;32m      4\u001b[0m \u001b[38;5;66;03m# Connect to MongoDB\u001b[39;00m\n\u001b[1;32m      5\u001b[0m client \u001b[38;5;241m=\u001b[39m pymongo\u001b[38;5;241m.\u001b[39mMongoClient(\u001b[38;5;124m\"\u001b[39m\u001b[38;5;124mmongodb://localhost:27017\u001b[39m\u001b[38;5;124m\"\u001b[39m)\n",
      "\u001b[0;31mModuleNotFoundError\u001b[0m: No module named 'pymongo'"
     ]
    }
   ],
   "source": [
    "#4.\n",
    "import pymongo\n",
    "\n",
    "# Connect to MongoDB\n",
    "client = pymongo.MongoClient(\"mongodb://localhost:27017\")\n",
    "\n",
    "# Create a database\n",
    "db = client[\"my_database\"]\n",
    "\n",
    "# Create a collection\n",
    "collection = db[\"my_collection\"]\n",
    "\n",
    "# Insert a document into the collection\n",
    "document = {\"name\": \"John Doe\", \"age\": 30}\n",
    "collection.insert_one(document)\n",
    "\n",
    "# Insert many documents into the collection\n",
    "documents = [\n",
    "  {\"name\": \"Jane Doe\", \"age\": 25},\n",
    "  {\"name\": \"Peter Smith\", \"age\": 40}\n",
    "]\n",
    "collection.insert_many(documents)\n",
    "\n",
    "# Print the documents in the collection\n",
    "for document in collection.find():\n",
    "    print(document)\n",
    "\n",
    "# Find the document with the name \"John Doe\"\n",
    "document = collection.find_one({\"name\": \"John Doe\"})\n",
    "print(document)"
   ]
  },
  {
   "cell_type": "code",
   "execution_count": 3,
   "id": "c7439ef5-0c99-4555-8b88-6e0ec7769a2f",
   "metadata": {},
   "outputs": [
    {
     "ename": "ModuleNotFoundError",
     "evalue": "No module named 'pymongo'",
     "output_type": "error",
     "traceback": [
      "\u001b[0;31m---------------------------------------------------------------------------\u001b[0m",
      "\u001b[0;31mModuleNotFoundError\u001b[0m                       Traceback (most recent call last)",
      "Cell \u001b[0;32mIn[3], line 3\u001b[0m\n\u001b[1;32m      1\u001b[0m \u001b[38;5;66;03m#5.\u001b[39;00m\n\u001b[1;32m      2\u001b[0m \u001b[38;5;66;03m#The find() method in MongoDB is used to query the database for documents that match a specified criteria. The criteria is specified as a query object, which is a JSON object that contains key-value pairs. The keys in the query object are the names of the fields that you want to query for, and the values are the values that you want to match.\u001b[39;00m\n\u001b[0;32m----> 3\u001b[0m \u001b[38;5;28;01mimport\u001b[39;00m \u001b[38;5;21;01mpymongo\u001b[39;00m\n\u001b[1;32m      5\u001b[0m \u001b[38;5;66;03m# Connect to MongoDB\u001b[39;00m\n\u001b[1;32m      6\u001b[0m client \u001b[38;5;241m=\u001b[39m pymongo\u001b[38;5;241m.\u001b[39mMongoClient(\u001b[38;5;124m\"\u001b[39m\u001b[38;5;124mmongodb://localhost:27017\u001b[39m\u001b[38;5;124m\"\u001b[39m)\n",
      "\u001b[0;31mModuleNotFoundError\u001b[0m: No module named 'pymongo'"
     ]
    }
   ],
   "source": [
    "#5.\n",
    "#The find() method in MongoDB is used to query the database for documents that match a specified criteria. The criteria is specified as a query object, which is a JSON object that contains key-value pairs. The keys in the query object are the names of the fields that you want to query for, and the values are the values that you want to match.\n",
    "import pymongo\n",
    "\n",
    "# Connect to MongoDB\n",
    "client = pymongo.MongoClient(\"mongodb://localhost:27017\")\n",
    "\n",
    "# Create a database\n",
    "db = client[\"my_database\"]\n",
    "\n",
    "# Create a collection\n",
    "collection = db[\"my_collection\"]\n",
    "\n",
    "# Insert a document into the collection\n",
    "document = {\"name\": \"John Doe\", \"age\": 30}\n",
    "collection.insert_one(document)\n",
    "\n",
    "# Find all documents in the collection\n",
    "cursor = collection.find()\n",
    "\n",
    "# Iterate over the cursor and print each document\n",
    "for document in cursor:\n",
    "    print(document)\n"
   ]
  },
  {
   "cell_type": "code",
   "execution_count": 4,
   "id": "63843939-9731-40cf-b9f1-cab895476fde",
   "metadata": {},
   "outputs": [
    {
     "ename": "ModuleNotFoundError",
     "evalue": "No module named 'pymongo'",
     "output_type": "error",
     "traceback": [
      "\u001b[0;31m---------------------------------------------------------------------------\u001b[0m",
      "\u001b[0;31mModuleNotFoundError\u001b[0m                       Traceback (most recent call last)",
      "Cell \u001b[0;32mIn[4], line 7\u001b[0m\n\u001b[1;32m      1\u001b[0m \u001b[38;5;66;03m#6.The sort() method in MongoDB is used to sort the results of a query. The sort order is specified as an object, which contains key-value pairs. The keys in the sort object are the names of the fields that you want to sort by, and the values are the directions in which you want to sort.\u001b[39;00m\n\u001b[1;32m      2\u001b[0m \n\u001b[1;32m      3\u001b[0m \u001b[38;5;66;03m#The possible values for the directions are:\u001b[39;00m\n\u001b[1;32m      4\u001b[0m \n\u001b[1;32m      5\u001b[0m \u001b[38;5;66;03m#1: ascending order\u001b[39;00m\n\u001b[1;32m      6\u001b[0m \u001b[38;5;66;03m#1: descending order\u001b[39;00m\n\u001b[0;32m----> 7\u001b[0m \u001b[38;5;28;01mimport\u001b[39;00m \u001b[38;5;21;01mpymongo\u001b[39;00m\n\u001b[1;32m      9\u001b[0m \u001b[38;5;66;03m# Connect to MongoDB\u001b[39;00m\n\u001b[1;32m     10\u001b[0m client \u001b[38;5;241m=\u001b[39m pymongo\u001b[38;5;241m.\u001b[39mMongoClient(\u001b[38;5;124m\"\u001b[39m\u001b[38;5;124mmongodb://localhost:27017\u001b[39m\u001b[38;5;124m\"\u001b[39m)\n",
      "\u001b[0;31mModuleNotFoundError\u001b[0m: No module named 'pymongo'"
     ]
    }
   ],
   "source": [
    "#6.The sort() method in MongoDB is used to sort the results of a query. The sort order is specified as an object, which contains key-value pairs. The keys in the sort object are the names of the fields that you want to sort by, and the values are the directions in which you want to sort.\n",
    "\n",
    "#The possible values for the directions are:\n",
    "\n",
    "#1: ascending order\n",
    "#1: descending order\n",
    "import pymongo\n",
    "\n",
    "# Connect to MongoDB\n",
    "client = pymongo.MongoClient(\"mongodb://localhost:27017\")\n",
    "\n",
    "# Create a database\n",
    "db = client[\"my_database\"]\n",
    "\n",
    "# Create a collection\n",
    "collection = db[\"my_collection\"]\n",
    "\n",
    "# Insert some documents\n",
    "document1 = {\"name\": \"John Doe\", \"age\": 30}\n",
    "document2 = {\"name\": \"Jane Doe\", \"age\": 25}\n",
    "document3 = {\"name\": \"Peter Smith\", \"age\": 40}\n",
    "collection.insert_many([document1, document2, document3])\n",
    "\n",
    "# Find all documents in the collection\n",
    "cursor = collection.find()\n",
    "\n",
    "# Sort the results in ascending order by the age field\n",
    "cursor = cursor.sort({\"age\": 1})\n",
    "\n",
    "# Iterate over the cursor and print each document\n",
    "for document in cursor:\n",
    "    print(document)\n",
    "\n"
   ]
  },
  {
   "cell_type": "raw",
   "id": "10efb5e2-8579-4028-819d-c56c0d4b9b4a",
   "metadata": {},
   "source": [
    "7.\n",
    "The delete_one(), delete_many(), and drop() methods in MongoDB are used to delete documents from a collection.\n",
    "\n",
    "delete_one() deletes a single document from a collection.\n",
    "delete_many() deletes multiple documents from a collection.\n",
    "drop() deletes all documents from a collection."
   ]
  }
 ],
 "metadata": {
  "kernelspec": {
   "display_name": "Python 3 (ipykernel)",
   "language": "python",
   "name": "python3"
  },
  "language_info": {
   "codemirror_mode": {
    "name": "ipython",
    "version": 3
   },
   "file_extension": ".py",
   "mimetype": "text/x-python",
   "name": "python",
   "nbconvert_exporter": "python",
   "pygments_lexer": "ipython3",
   "version": "3.10.8"
  }
 },
 "nbformat": 4,
 "nbformat_minor": 5
}
